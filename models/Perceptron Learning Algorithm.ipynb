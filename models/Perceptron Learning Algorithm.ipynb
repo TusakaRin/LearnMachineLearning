{
 "cells": [
  {
   "cell_type": "markdown",
   "metadata": {
    "collapsed": true,
    "pycharm": {
     "is_executing": false
    }
   },
   "source": [
    "# The realization of PLA:\n",
    "- Reference: \n",
    "    - 李航 《统计学习方法》 第二版 第二章\n",
    "    - 知乎：https://www.zhihu.com/question/26526858/answer/253579695\n",
    "    \n",
    "## generate linear separable data"
   ]
  },
  {
   "cell_type": "code",
   "execution_count": 97,
   "metadata": {},
   "outputs": [],
   "source": [
    "import numpy as np\n",
    "import pandas as pd\n",
    "import matplotlib.pyplot as plt"
   ]
  },
  {
   "cell_type": "code",
   "execution_count": 98,
   "metadata": {
    "pycharm": {
     "name": "#%%\n"
    }
   },
   "outputs": [],
   "source": [
    "# weights: 直线法向量，numlines: 正整数，创造的数据点数量\n",
    "def generate_data(weights, numlines):\n",
    "    w = np.array(weights)\n",
    "    features = len(w)\n",
    "    dataset = np.zeros((numlines, features + 1))  # 行为数据点，列为特征的取值，最后一列为样本标签\n",
    "    for i in range(numlines):\n",
    "        x = np.random.rand(1, features) * 20 - 10  # 生成一行数据，范围是-10~10\n",
    "        inner_product = np.sum(w * x)\n",
    "        if inner_product <= 0:\n",
    "            dataset[i] = np.append(x, -1)\n",
    "        else:\n",
    "            dataset[i] = np.append(x, 1)\n",
    "    return dataset"
   ]
  },
  {
   "cell_type": "code",
   "execution_count": 99,
   "metadata": {},
   "outputs": [],
   "source": [
    "def plot_dataset(dataSet):\n",
    "    fig = plt.figure()\n",
    "    ax = fig.add_subplot(111)\n",
    "    ax.set_title('Linear separable data set')\n",
    "    plt.xlabel('X')\n",
    "    plt.ylabel('Y')\n",
    "    labels = np.array(dataSet[:,2])\n",
    "    idx_1 = np.where(dataSet[:,2]==1)\n",
    "    p1 = ax.scatter(dataSet[idx_1,0], dataSet[idx_1,1], marker='o', color='g', label=1, s=20)\n",
    "    idx_2 = np.where(dataSet[:,2]==-1)\n",
    "    p2 = ax.scatter(dataSet[idx_2,0], dataSet[idx_2,1], marker='x', color='r', label=2, s=20)\n",
    "    plt.legend(loc = 'upper right')"
   ]
  },
  {
   "cell_type": "markdown",
   "metadata": {},
   "source": [
    "## Sample Usage of Data Generator"
   ]
  },
  {
   "cell_type": "code",
   "execution_count": 100,
   "metadata": {},
   "outputs": [],
   "source": [
    "data = generate_data([3,4], 100)"
   ]
  },
  {
   "cell_type": "code",
   "execution_count": 101,
   "metadata": {},
   "outputs": [
    {
     "data": {
      "image/png": "[encoded data removed]",
      "text/plain": [
       "<Figure size 432x288 with 1 Axes>"
      ]
     },
     "metadata": {
      "needs_background": "light"
     },
     "output_type": "display_data"
    }
   ],
   "source": [
    "plot_dataset(data)\n",
    "plt.show()"
   ]
  },
  {
   "cell_type": "markdown",
   "metadata": {},
   "source": [
    "## Fit model\n",
    "### Single Class"
   ]
  },
  {
   "cell_type": "code",
   "execution_count": 102,
   "metadata": {},
   "outputs": [],
   "source": [
    "from sklearn.linear_model import Perceptron\n",
    "X = data[:,:-1]\n",
    "y = data[:, -1]"
   ]
  },
  {
   "cell_type": "code",
   "execution_count": 103,
   "metadata": {
    "scrolled": true
   },
   "outputs": [
    {
     "data": {
      "text/plain": [
       "(array([[ 5.58520831,  7.88095211],\n",
       "        [ 8.90463897,  4.55120551],\n",
       "        [ 8.64436972,  0.79789707],\n",
       "        [-6.96355312, -5.32089408],\n",
       "        [-2.11424757, -8.20760637],\n",
       "        [-9.15041639, -8.21601985],\n",
       "        [ 2.76183435,  8.03162898],\n",
       "        [-8.132518  , -7.03771475],\n",
       "        [ 1.27508988,  1.37875305],\n",
       "        [-3.37914451,  8.00973534],\n",
       "        [ 9.22661907, -1.48034457],\n",
       "        [-7.43598434,  5.24233991],\n",
       "        [ 2.77699699,  5.59749369],\n",
       "        [ 8.6446053 , -3.54864501],\n",
       "        [-8.14225891, -8.65791742],\n",
       "        [-1.67709162,  3.19936457],\n",
       "        [-6.14726409,  6.76770285],\n",
       "        [-1.83172665,  2.79271482],\n",
       "        [ 1.72794393, -8.37957952],\n",
       "        [-1.78720525,  9.21305919],\n",
       "        [ 2.63222947,  0.6103958 ],\n",
       "        [ 6.14656964,  6.48191994],\n",
       "        [-3.3088386 , -6.89581313],\n",
       "        [-5.34310112,  0.7684832 ],\n",
       "        [-3.78812029, -8.02685051],\n",
       "        [-1.99369243, -6.37336468],\n",
       "        [-8.41416659,  9.36943916],\n",
       "        [-8.81397083,  2.85048593],\n",
       "        [ 7.10445674, -2.37257276],\n",
       "        [-5.22171559, -6.48012621],\n",
       "        [-1.95531005,  3.85164367],\n",
       "        [ 2.51574102,  1.55333757],\n",
       "        [-2.64779336,  9.31631167],\n",
       "        [ 3.61394798,  4.54675256],\n",
       "        [ 2.70760731,  6.32497174],\n",
       "        [ 8.83206695,  1.43637222],\n",
       "        [-1.95199171,  0.51517609],\n",
       "        [-5.03328859, -0.98676116],\n",
       "        [ 9.09207591, -7.53941469],\n",
       "        [ 5.07538324, -9.15914755],\n",
       "        [ 5.08790835,  6.54502555],\n",
       "        [ 1.96961528,  1.35795529],\n",
       "        [-0.98261002,  1.32067034],\n",
       "        [ 1.28260856, -7.27654431],\n",
       "        [-2.38167341,  0.38188156],\n",
       "        [-7.41363267,  8.89450469],\n",
       "        [-3.9647623 , -7.81750896],\n",
       "        [-3.44164342,  9.84800845],\n",
       "        [-3.01392897,  5.79424811],\n",
       "        [ 1.51815456, -1.99304901],\n",
       "        [ 5.47733335,  6.1962332 ],\n",
       "        [ 7.00122279,  5.69709947],\n",
       "        [ 9.39417328, -1.40711102],\n",
       "        [-6.63851192, -7.62860074],\n",
       "        [-1.05168947, -9.47764091],\n",
       "        [-4.52001374,  0.26213077],\n",
       "        [-6.61612219,  1.10413912],\n",
       "        [ 5.58695726,  6.55721725],\n",
       "        [ 4.86054894, -3.86213451],\n",
       "        [ 6.73341577, -1.06705308],\n",
       "        [-1.84528385, -1.26214682],\n",
       "        [-1.43874446,  4.31653425],\n",
       "        [ 8.50082836,  8.37644237],\n",
       "        [ 8.61669257,  0.94898068],\n",
       "        [-8.87252199, -8.6971108 ],\n",
       "        [-9.44770538,  5.59233349],\n",
       "        [ 9.09663484,  0.25710086],\n",
       "        [ 7.11086362,  9.82601103],\n",
       "        [ 0.82737247, -2.95475597],\n",
       "        [ 7.15188759, -6.56750244],\n",
       "        [ 9.40025341,  9.96295137],\n",
       "        [-4.26767364,  4.54045022],\n",
       "        [ 0.18043834,  7.02858971],\n",
       "        [-6.45481002,  9.24074564],\n",
       "        [-2.06380697, -8.03407295],\n",
       "        [-8.29094999,  9.96279974],\n",
       "        [-5.67239312, -8.78959759],\n",
       "        [ 2.75622966,  9.55654019],\n",
       "        [-1.89464311, -7.61679874],\n",
       "        [ 6.30091093,  0.21467244],\n",
       "        [-1.99664048,  4.72756035],\n",
       "        [ 4.28534051, -8.53577561],\n",
       "        [ 6.16158762, -6.36638852],\n",
       "        [-8.66689527,  4.2018207 ],\n",
       "        [ 8.02911862,  2.78789764],\n",
       "        [ 5.41511864, -3.71486805],\n",
       "        [-8.57398764,  3.9690152 ],\n",
       "        [-5.68156942,  4.20921857],\n",
       "        [-8.07365857,  8.02914121],\n",
       "        [-1.71787521, -3.86019912],\n",
       "        [ 7.09185049, -0.56238057],\n",
       "        [-4.89585484,  2.43475172],\n",
       "        [ 6.19332838, -7.3750983 ],\n",
       "        [ 2.55770888, -2.79131917],\n",
       "        [ 8.24319124, -7.25652512],\n",
       "        [ 2.59765653,  2.56527239],\n",
       "        [-3.90422539, -5.68437397],\n",
       "        [ 8.44980428,  4.16598942],\n",
       "        [ 0.30734917,  8.66152466],\n",
       "        [-8.15646643, -2.54019411]]),\n",
       " array([ 1.,  1.,  1., -1., -1., -1.,  1., -1.,  1.,  1.,  1., -1.,  1.,\n",
       "         1., -1.,  1.,  1.,  1., -1.,  1.,  1.,  1., -1., -1., -1., -1.,\n",
       "         1., -1.,  1., -1.,  1.,  1.,  1.,  1.,  1.,  1., -1., -1., -1.,\n",
       "        -1.,  1.,  1.,  1., -1., -1.,  1., -1.,  1.,  1., -1.,  1.,  1.,\n",
       "         1., -1., -1., -1., -1.,  1., -1.,  1., -1.,  1.,  1.,  1., -1.,\n",
       "        -1.,  1.,  1., -1., -1.,  1.,  1.,  1.,  1., -1.,  1., -1.,  1.,\n",
       "        -1.,  1.,  1., -1., -1., -1.,  1.,  1., -1., -1.,  1., -1.,  1.,\n",
       "        -1., -1., -1., -1.,  1., -1.,  1.,  1., -1.]))"
      ]
     },
     "execution_count": 103,
     "metadata": {},
     "output_type": "execute_result"
    }
   ],
   "source": [
    "X,y"
   ]
  },
  {
   "cell_type": "code",
   "execution_count": 104,
   "metadata": {},
   "outputs": [
    {
     "name": "stdout",
     "output_type": "stream",
     "text": [
      "1.0\n",
      "[[19.95600803 22.99803049]]\n",
      "[-10.]\n"
     ]
    }
   ],
   "source": [
    "clf = Perceptron(tol=1e-3, random_state=0)\n",
    "clf.fit(X, y)\n",
    "print(clf.score(X, y))\n",
    "print(clf.coef_)\n",
    "print(clf.intercept_)"
   ]
  },
  {
   "cell_type": "code",
   "execution_count": 105,
   "metadata": {},
   "outputs": [
    {
     "name": "stdout",
     "output_type": "stream",
     "text": [
      "[[19.95600803 22.99803049]]\n",
      "[-10.]\n"
     ]
    }
   ],
   "source": [
    "print(clf.coef_)\n",
    "print(clf.intercept_)"
   ]
  },
  {
   "cell_type": "markdown",
   "metadata": {},
   "source": [
    "- for single class: clf.coef_[0] is the weight vector and clf.intercept_[0] is the intercept"
   ]
  },
  {
   "cell_type": "code",
   "execution_count": 106,
   "metadata": {},
   "outputs": [],
   "source": [
    "coefs = clf.coef_[0]\n",
    "intercept = clf.intercept_[0]"
   ]
  },
  {
   "cell_type": "markdown",
   "metadata": {},
   "source": [
    "- use the model"
   ]
  },
  {
   "cell_type": "code",
   "execution_count": 107,
   "metadata": {},
   "outputs": [
    {
     "name": "stdout",
     "output_type": "stream",
     "text": [
      "[1 1 1 0 0 0 1 0 1 1 1 0 1 1 0 1 1 1 0 1 1 1 0 0 0 0 1 0 1 0 1 1 1 1 1 1 0\n",
      " 0 0 0 1 1 1 0 0 1 0 1 1 0 1 1 1 0 0 0 0 1 0 1 0 1 1 1 0 0 1 1 0 0 1 1 1 1\n",
      " 0 1 0 1 0 1 1 0 0 0 1 1 0 0 1 0 1 0 0 0 0 1 0 1 1 0] [ 1.  1.  1. -1. -1. -1.  1. -1.  1.  1.  1. -1.  1.  1. -1.  1.  1.  1.\n",
      " -1.  1.  1.  1. -1. -1. -1. -1.  1. -1.  1. -1.  1.  1.  1.  1.  1.  1.\n",
      " -1. -1. -1. -1.  1.  1.  1. -1. -1.  1. -1.  1.  1. -1.  1.  1.  1. -1.\n",
      " -1. -1. -1.  1. -1.  1. -1.  1.  1.  1. -1. -1.  1.  1. -1. -1.  1.  1.\n",
      "  1.  1. -1.  1. -1.  1. -1.  1.  1. -1. -1. -1.  1.  1. -1. -1.  1. -1.\n",
      "  1. -1. -1. -1. -1.  1. -1.  1.  1. -1.]\n"
     ]
    }
   ],
   "source": [
    "f = np.dot(X, coefs) + intercept\n",
    "sign = np.where(f > 0, 1, 0)\n",
    "print(sign, y)"
   ]
  },
  {
   "cell_type": "markdown",
   "metadata": {},
   "source": [
    "- or use api by sklearn:"
   ]
  },
  {
   "cell_type": "code",
   "execution_count": 108,
   "metadata": {},
   "outputs": [
    {
     "data": {
      "text/plain": [
       "array([ 1.,  1.,  1., -1., -1., -1.,  1., -1.,  1.,  1.,  1., -1.,  1.,\n",
       "        1., -1.,  1.,  1.,  1., -1.,  1.,  1.,  1., -1., -1., -1., -1.,\n",
       "        1., -1.,  1., -1.,  1.,  1.,  1.,  1.,  1.,  1., -1., -1., -1.,\n",
       "       -1.,  1.,  1.,  1., -1., -1.,  1., -1.,  1.,  1., -1.,  1.,  1.,\n",
       "        1., -1., -1., -1., -1.,  1., -1.,  1., -1.,  1.,  1.,  1., -1.,\n",
       "       -1.,  1.,  1., -1., -1.,  1.,  1.,  1.,  1., -1.,  1., -1.,  1.,\n",
       "       -1.,  1.,  1., -1., -1., -1.,  1.,  1., -1., -1.,  1., -1.,  1.,\n",
       "       -1., -1., -1., -1.,  1., -1.,  1.,  1., -1.])"
      ]
     },
     "execution_count": 108,
     "metadata": {},
     "output_type": "execute_result"
    }
   ],
   "source": [
    "clf.predict(X)"
   ]
  },
  {
   "cell_type": "code",
   "execution_count": null,
   "metadata": {},
   "outputs": [],
   "source": []
  }
 ],
 "metadata": {
  "kernelspec": {
   "display_name": "Python 3",
   "language": "python",
   "name": "python3"
  },
  "language_info": {
   "codemirror_mode": {
    "name": "ipython",
    "version": 3
   },
   "file_extension": ".py",
   "mimetype": "text/x-python",
   "name": "python",
   "nbconvert_exporter": "python",
   "pygments_lexer": "ipython3",
   "version": "3.7.4"
  },
  "pycharm": {
   "stem_cell": {
    "cell_type": "raw",
    "metadata": {
     "collapsed": false
    },
    "source": []
   }
  }
 },
 "nbformat": 4,
 "nbformat_minor": 1
}
