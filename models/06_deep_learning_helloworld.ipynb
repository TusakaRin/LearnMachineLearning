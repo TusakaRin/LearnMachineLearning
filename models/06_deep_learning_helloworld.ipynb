{
 "cells": [
  {
   "cell_type": "code",
   "execution_count": 4,
   "metadata": {},
   "outputs": [],
   "source": [
    "import numpy as np\n",
    "from keras.models import Sequential\n",
    "from keras.layers.core import Dense, Dropout, Activation\n",
    "from keras.layers import Conv2D, MaxPooling2D, Flatten\n",
    "from keras.optimizers import SGD, Adam\n",
    "from keras.utils import np_utils\n",
    "from keras.datasets import mnist"
   ]
  },
  {
   "cell_type": "code",
   "execution_count": 6,
   "metadata": {},
   "outputs": [],
   "source": [
    "def load_data():\n",
    "    (x_train, y_train), (x_test, y_test) = mnist.load_data()\n",
    "    number = 10000\n",
    "    x_train = x_train[:10000]\n",
    "    y_train = y_train[:10000]\n",
    "    \n",
    "    x_train = x_train.reshape(number, 28 * 28)\n",
    "    x_test = x_test.reshape(x_test.shape[0], 28*28)\n",
    "    \n",
    "    x_train = x_train.astype('float32')\n",
    "    x_test = x_test.astype('float32')\n",
    "    \n",
    "    y_train = np_utils.to_categorical(y_train, 10)\n",
    "    y_test = np_utils.to_categorical(y_test, 10)\n",
    "    \n",
    "    x_train = x_train / 255\n",
    "    x_test = x_test / 255\n",
    "    return (x_train, y_train), (x_test, y_test)"
   ]
  },
  {
   "cell_type": "code",
   "execution_count": 7,
   "metadata": {},
   "outputs": [
    {
     "name": "stdout",
     "output_type": "stream",
     "text": [
      "Downloading data from https://s3.amazonaws.com/img-datasets/mnist.npz\n",
      "11493376/11490434 [==============================] - 9s 1us/step\n"
     ]
    }
   ],
   "source": [
    "(x_train, y_train), (x_test, y_test) = load_data()"
   ]
  },
  {
   "cell_type": "markdown",
   "metadata": {},
   "source": [
    "# 最初的方式"
   ]
  },
  {
   "cell_type": "code",
   "execution_count": 9,
   "metadata": {},
   "outputs": [
    {
     "name": "stdout",
     "output_type": "stream",
     "text": [
      "Epoch 1/20\n",
      "10000/10000 [==============================] - 2s 194us/step - loss: 0.0907 - accuracy: 0.1102\n",
      "Epoch 2/20\n",
      "10000/10000 [==============================] - 2s 174us/step - loss: 0.0900 - accuracy: 0.1112\n",
      "Epoch 3/20\n",
      "10000/10000 [==============================] - 2s 170us/step - loss: 0.0900 - accuracy: 0.1085\n",
      "Epoch 4/20\n",
      "10000/10000 [==============================] - 2s 176us/step - loss: 0.0900 - accuracy: 0.1090\n",
      "Epoch 5/20\n",
      "10000/10000 [==============================] - 2s 174us/step - loss: 0.0900 - accuracy: 0.11560s -\n",
      "Epoch 6/20\n",
      "10000/10000 [==============================] - 2s 170us/step - loss: 0.0900 - accuracy: 0.1124\n",
      "Epoch 7/20\n",
      "10000/10000 [==============================] - 2s 188us/step - loss: 0.0899 - accuracy: 0.1119\n",
      "Epoch 8/20\n",
      "10000/10000 [==============================] - 2s 171us/step - loss: 0.0899 - accuracy: 0.1123\n",
      "Epoch 9/20\n",
      "10000/10000 [==============================] - 2s 179us/step - loss: 0.0899 - accuracy: 0.1153\n",
      "Epoch 10/20\n",
      "10000/10000 [==============================] - 2s 183us/step - loss: 0.0899 - accuracy: 0.1155\n",
      "Epoch 11/20\n",
      "10000/10000 [==============================] - 2s 174us/step - loss: 0.0899 - accuracy: 0.1185\n",
      "Epoch 12/20\n",
      "10000/10000 [==============================] - 2s 193us/step - loss: 0.0899 - accuracy: 0.1151\n",
      "Epoch 13/20\n",
      "10000/10000 [==============================] - 2s 188us/step - loss: 0.0899 - accuracy: 0.1229\n",
      "Epoch 14/20\n",
      "10000/10000 [==============================] - 2s 186us/step - loss: 0.0899 - accuracy: 0.1203\n",
      "Epoch 15/20\n",
      "10000/10000 [==============================] - 2s 225us/step - loss: 0.0899 - accuracy: 0.1159\n",
      "Epoch 16/20\n",
      "10000/10000 [==============================] - 2s 202us/step - loss: 0.0899 - accuracy: 0.1178\n",
      "Epoch 17/20\n",
      "10000/10000 [==============================] - 2s 200us/step - loss: 0.0899 - accuracy: 0.1177\n",
      "Epoch 18/20\n",
      "10000/10000 [==============================] - 2s 188us/step - loss: 0.0899 - accuracy: 0.1170\n",
      "Epoch 19/20\n",
      "10000/10000 [==============================] - 2s 208us/step - loss: 0.0899 - accuracy: 0.1328\n",
      "Epoch 20/20\n",
      "10000/10000 [==============================] - 2s 184us/step - loss: 0.0899 - accuracy: 0.1186\n"
     ]
    },
    {
     "data": {
      "text/plain": [
       "<keras.callbacks.callbacks.History at 0x16ae6f6ac88>"
      ]
     },
     "execution_count": 9,
     "metadata": {},
     "output_type": "execute_result"
    }
   ],
   "source": [
    "model = Sequential()\n",
    "\n",
    "model.add(Dense(input_dim=28*28, units=689, activation='sigmoid')) # input\n",
    "\n",
    "model.add(Dense(units=689, activation='sigmoid')) # hidden\n",
    "model.add(Dense(units=689, activation='sigmoid')) # hidden\n",
    "\n",
    "model.add(Dense(units=10, activation='softmax')) # output\n",
    "\n",
    "model.compile(loss='mse', optimizer=SGD(lr=0.1), metrics=['accuracy'])\n",
    "model.fit(x_train, y_train, batch_size=100, epochs=20)"
   ]
  },
  {
   "cell_type": "code",
   "execution_count": 10,
   "metadata": {},
   "outputs": [
    {
     "name": "stdout",
     "output_type": "stream",
     "text": [
      "\r",
      "10000/10000 [==============================] - 0s 21us/step\n"
     ]
    }
   ],
   "source": [
    "result = model.evaluate(x_test, y_test, batch_size=10000)"
   ]
  },
  {
   "cell_type": "code",
   "execution_count": 11,
   "metadata": {},
   "outputs": [
    {
     "name": "stdout",
     "output_type": "stream",
     "text": [
      "test_acc:  0.1298000067472458\n"
     ]
    }
   ],
   "source": [
    "print('test_acc: ', result[1])"
   ]
  },
  {
   "cell_type": "code",
   "execution_count": 13,
   "metadata": {},
   "outputs": [
    {
     "name": "stdout",
     "output_type": "stream",
     "text": [
      "10000/10000 [==============================] - 0s 18us/step\n",
      "train_acc:  0.13979999721050262\n"
     ]
    }
   ],
   "source": [
    "result = model.evaluate(x_train, y_train, batch_size=10000)\n",
    "print('train_acc: ', result[1])"
   ]
  },
  {
   "cell_type": "markdown",
   "metadata": {},
   "source": [
    "# Loss function: 使用cross entropy"
   ]
  },
  {
   "cell_type": "code",
   "execution_count": 15,
   "metadata": {},
   "outputs": [
    {
     "name": "stdout",
     "output_type": "stream",
     "text": [
      "Epoch 1/20\n",
      "10000/10000 [==============================] - 2s 179us/step - loss: 2.5187 - accuracy: 0.1002\n",
      "Epoch 2/20\n",
      "10000/10000 [==============================] - 2s 168us/step - loss: 2.3420 - accuracy: 0.1176\n",
      "Epoch 3/20\n",
      "10000/10000 [==============================] - 2s 169us/step - loss: 2.3161 - accuracy: 0.1202\n",
      "Epoch 4/20\n",
      "10000/10000 [==============================] - 2s 178us/step - loss: 2.2754 - accuracy: 0.1559\n",
      "Epoch 5/20\n",
      "10000/10000 [==============================] - 2s 188us/step - loss: 2.2301 - accuracy: 0.1901\n",
      "Epoch 6/20\n",
      "10000/10000 [==============================] - 2s 178us/step - loss: 2.1258 - accuracy: 0.2766\n",
      "Epoch 7/20\n",
      "10000/10000 [==============================] - 2s 183us/step - loss: 1.8901 - accuracy: 0.3567\n",
      "Epoch 8/20\n",
      "10000/10000 [==============================] - 2s 170us/step - loss: 1.5860 - accuracy: 0.4585\n",
      "Epoch 9/20\n",
      "10000/10000 [==============================] - 2s 172us/step - loss: 1.2935 - accuracy: 0.5475\n",
      "Epoch 10/20\n",
      "10000/10000 [==============================] - 2s 187us/step - loss: 1.0807 - accuracy: 0.6217\n",
      "Epoch 11/20\n",
      "10000/10000 [==============================] - 2s 183us/step - loss: 0.9186 - accuracy: 0.6875\n",
      "Epoch 12/20\n",
      "10000/10000 [==============================] - 2s 220us/step - loss: 0.8189 - accuracy: 0.7169\n",
      "Epoch 13/20\n",
      "10000/10000 [==============================] - 2s 203us/step - loss: 0.7679 - accuracy: 0.7411\n",
      "Epoch 14/20\n",
      "10000/10000 [==============================] - 2s 182us/step - loss: 0.7075 - accuracy: 0.7693\n",
      "Epoch 15/20\n",
      "10000/10000 [==============================] - 2s 177us/step - loss: 0.6682 - accuracy: 0.7870\n",
      "Epoch 16/20\n",
      "10000/10000 [==============================] - 2s 180us/step - loss: 0.6269 - accuracy: 0.8066\n",
      "Epoch 17/20\n",
      "10000/10000 [==============================] - 2s 177us/step - loss: 0.5839 - accuracy: 0.8256\n",
      "Epoch 18/20\n",
      "10000/10000 [==============================] - 2s 177us/step - loss: 0.5429 - accuracy: 0.8378\n",
      "Epoch 19/20\n",
      "10000/10000 [==============================] - 2s 174us/step - loss: 0.5174 - accuracy: 0.8466\n",
      "Epoch 20/20\n",
      "10000/10000 [==============================] - 2s 172us/step - loss: 0.4910 - accuracy: 0.8555\n"
     ]
    },
    {
     "data": {
      "text/plain": [
       "<keras.callbacks.callbacks.History at 0x16ae70cdf08>"
      ]
     },
     "execution_count": 15,
     "metadata": {},
     "output_type": "execute_result"
    }
   ],
   "source": [
    "model = Sequential()\n",
    "\n",
    "model.add(Dense(input_dim=28*28, units=689, activation='sigmoid')) # input\n",
    "\n",
    "model.add(Dense(units=689, activation='sigmoid')) # hidden\n",
    "model.add(Dense(units=689, activation='sigmoid')) # hidden\n",
    "\n",
    "model.add(Dense(units=10, activation='softmax')) # output\n",
    "\n",
    "model.compile(loss='categorical_crossentropy', optimizer=SGD(lr=0.1), metrics=['accuracy'])\n",
    "model.fit(x_train, y_train, batch_size=100, epochs=20)"
   ]
  },
  {
   "cell_type": "code",
   "execution_count": 16,
   "metadata": {},
   "outputs": [
    {
     "name": "stdout",
     "output_type": "stream",
     "text": [
      "10000/10000 [==============================] - 0s 19us/step\n",
      "Test accuracy: 0.8514000177383423\n",
      "10000/10000 [==============================] - 0s 17us/step\n",
      "Train accuracy: 0.8673999905586243\n"
     ]
    }
   ],
   "source": [
    "result = model.evaluate(x_test, y_test, batch_size=10000)\n",
    "print('Test accuracy:', result[1])\n",
    "\n",
    "result = model.evaluate(x_train, y_train, batch_size=10000)\n",
    "print('Train accuracy:', result[1])"
   ]
  },
  {
   "cell_type": "markdown",
   "metadata": {},
   "source": [
    "# Batch size的影响"
   ]
  },
  {
   "cell_type": "code",
   "execution_count": 26,
   "metadata": {},
   "outputs": [
    {
     "name": "stdout",
     "output_type": "stream",
     "text": [
      "Epoch 1/20\n",
      "10000/10000 [==============================] - 0s 48us/step - loss: 2.5934 - accuracy: 0.0980\n",
      "Epoch 2/20\n",
      "10000/10000 [==============================] - 0s 45us/step - loss: 2.6269 - accuracy: 0.1127\n",
      "Epoch 3/20\n",
      "10000/10000 [==============================] - 0s 46us/step - loss: 2.4166 - accuracy: 0.0863\n",
      "Epoch 4/20\n",
      "10000/10000 [==============================] - 1s 54us/step - loss: 2.3159 - accuracy: 0.1127\n",
      "Epoch 5/20\n",
      "10000/10000 [==============================] - 0s 47us/step - loss: 2.3147 - accuracy: 0.0987\n",
      "Epoch 6/20\n",
      "10000/10000 [==============================] - 1s 51us/step - loss: 2.3123 - accuracy: 0.1127\n",
      "Epoch 7/20\n",
      "10000/10000 [==============================] - 1s 60us/step - loss: 2.3153 - accuracy: 0.0980\n",
      "Epoch 8/20\n",
      "10000/10000 [==============================] - 0s 48us/step - loss: 2.3127 - accuracy: 0.1127\n",
      "Epoch 9/20\n",
      "10000/10000 [==============================] - 1s 56us/step - loss: 2.3179 - accuracy: 0.0982\n",
      "Epoch 10/20\n",
      "10000/10000 [==============================] - 1s 60us/step - loss: 2.3139 - accuracy: 0.1127\n",
      "Epoch 11/20\n",
      "10000/10000 [==============================] - 0s 48us/step - loss: 2.3210 - accuracy: 0.1384\n",
      "Epoch 12/20\n",
      "10000/10000 [==============================] - 0s 46us/step - loss: 2.3151 - accuracy: 0.1127\n",
      "Epoch 13/20\n",
      "10000/10000 [==============================] - 0s 44us/step - loss: 2.3237 - accuracy: 0.1032\n",
      "Epoch 14/20\n",
      "10000/10000 [==============================] - 1s 54us/step - loss: 2.3160 - accuracy: 0.1127\n",
      "Epoch 15/20\n",
      "10000/10000 [==============================] - 1s 57us/step - loss: 2.3255 - accuracy: 0.1032\n",
      "Epoch 16/20\n",
      "10000/10000 [==============================] - 1s 60us/step - loss: 2.3165 - accuracy: 0.1127\n",
      "Epoch 17/20\n",
      "10000/10000 [==============================] - 1s 60us/step - loss: 2.3263 - accuracy: 0.1032\n",
      "Epoch 18/20\n",
      "10000/10000 [==============================] - 0s 48us/step - loss: 2.3168 - accuracy: 0.1127\n",
      "Epoch 19/20\n",
      "10000/10000 [==============================] - 0s 50us/step - loss: 2.3266 - accuracy: 0.1032\n",
      "Epoch 20/20\n",
      "10000/10000 [==============================] - 1s 59us/step - loss: 2.3169 - accuracy: 0.1127\n"
     ]
    },
    {
     "data": {
      "text/plain": [
       "<keras.callbacks.callbacks.History at 0x16af09d3e88>"
      ]
     },
     "execution_count": 26,
     "metadata": {},
     "output_type": "execute_result"
    }
   ],
   "source": [
    "model = Sequential()\n",
    "\n",
    "model.add(Dense(input_dim=28*28, units=689, activation='sigmoid')) # input\n",
    "\n",
    "model.add(Dense(units=689, activation='sigmoid')) # hidden\n",
    "model.add(Dense(units=689, activation='sigmoid')) # hidden\n",
    "\n",
    "model.add(Dense(units=10, activation='softmax')) # output\n",
    "\n",
    "model.compile(loss='categorical_crossentropy', optimizer=SGD(lr=0.1), metrics=['accuracy'])\n",
    "model.fit(x_train, y_train, batch_size=10000, epochs=20)"
   ]
  },
  {
   "cell_type": "code",
   "execution_count": 27,
   "metadata": {},
   "outputs": [
    {
     "name": "stdout",
     "output_type": "stream",
     "text": [
      "10000/10000 [==============================] - 0s 18us/step\n",
      "Test accuracy: 0.10100000351667404\n",
      "10000/10000 [==============================] - 0s 17us/step\n",
      "Train accuracy: 0.10320000350475311\n"
     ]
    }
   ],
   "source": [
    "result = model.evaluate(x_test, y_test, batch_size=10000)\n",
    "print('Test accuracy:', result[1])\n",
    "\n",
    "result = model.evaluate(x_train, y_train, batch_size=10000)\n",
    "print('Train accuracy:', result[1])"
   ]
  },
  {
   "cell_type": "markdown",
   "metadata": {},
   "source": [
    "# Batch Size设为1\n",
    "- 更有可能收敛到local minimum"
   ]
  },
  {
   "cell_type": "code",
   "execution_count": 28,
   "metadata": {},
   "outputs": [
    {
     "name": "stdout",
     "output_type": "stream",
     "text": [
      "Epoch 1/1\n",
      "10000/10000 [==============================] - 116s 12ms/step - loss: 2.3261 - accuracy: 0.1084\n"
     ]
    },
    {
     "data": {
      "text/plain": [
       "<keras.callbacks.callbacks.History at 0x16a80024f48>"
      ]
     },
     "execution_count": 28,
     "metadata": {},
     "output_type": "execute_result"
    }
   ],
   "source": [
    "model = Sequential()\n",
    "\n",
    "model.add(Dense(input_dim=28*28, units=689, activation='sigmoid')) # input\n",
    "\n",
    "model.add(Dense(units=689, activation='sigmoid')) # hidden\n",
    "model.add(Dense(units=689, activation='sigmoid')) # hidden\n",
    "\n",
    "model.add(Dense(units=10, activation='softmax')) # output\n",
    "\n",
    "model.compile(loss='categorical_crossentropy', optimizer=SGD(lr=0.1), metrics=['accuracy'])\n",
    "model.fit(x_train, y_train, batch_size=1, epochs=1)"
   ]
  },
  {
   "cell_type": "code",
   "execution_count": 29,
   "metadata": {},
   "outputs": [
    {
     "name": "stdout",
     "output_type": "stream",
     "text": [
      "10000/10000 [==============================] - 8s 817us/step\n",
      "Test accuracy: 0.27639999985694885\n",
      "10000/10000 [==============================] - 8s 804us/step\n",
      "Train accuracy: 0.27639999985694885\n"
     ]
    }
   ],
   "source": [
    "result = model.evaluate(x_test, y_test, batch_size=1)\n",
    "print('Test accuracy:', result[1])\n",
    "\n",
    "result = model.evaluate(x_train, y_train, batch_size=1)\n",
    "print('Train accuracy:', result[1])"
   ]
  },
  {
   "cell_type": "code",
   "execution_count": 30,
   "metadata": {},
   "outputs": [
    {
     "name": "stdout",
     "output_type": "stream",
     "text": [
      "10000/10000 [==============================] - 0s 39us/step\n",
      "Test accuracy: 0.27639999985694885\n",
      "10000/10000 [==============================] - 0s 38us/step\n",
      "Train accuracy: 0.27639999985694885\n"
     ]
    }
   ],
   "source": [
    "result = model.evaluate(x_test, y_test, batch_size=100)\n",
    "print('Test accuracy:', result[1])\n",
    "\n",
    "result = model.evaluate(x_train, y_train, batch_size=100)\n",
    "print('Train accuracy:', result[1])"
   ]
  },
  {
   "cell_type": "markdown",
   "metadata": {},
   "source": [
    "# Number of layers"
   ]
  },
  {
   "cell_type": "code",
   "execution_count": 32,
   "metadata": {},
   "outputs": [
    {
     "name": "stdout",
     "output_type": "stream",
     "text": [
      "Epoch 1/3\n",
      "10000/10000 [==============================] - 2s 231us/step - loss: 2.3988 - accuracy: 0.1015\n",
      "Epoch 2/3\n",
      "10000/10000 [==============================] - 2s 226us/step - loss: 2.3670 - accuracy: 0.1039\n",
      "Epoch 3/3\n",
      "10000/10000 [==============================] - 2s 223us/step - loss: 2.3458 - accuracy: 0.1069\n"
     ]
    },
    {
     "data": {
      "text/plain": [
       "<keras.callbacks.callbacks.History at 0x16aec0f8c08>"
      ]
     },
     "execution_count": 32,
     "metadata": {},
     "output_type": "execute_result"
    }
   ],
   "source": [
    "model = Sequential()\n",
    "\n",
    "model.add(Dense(input_dim=28*28, units=689, activation='sigmoid')) # input\n",
    "\n",
    "model.add(Dense(units=689, activation='sigmoid')) # hidden\n",
    "model.add(Dense(units=689, activation='sigmoid')) # hidden\n",
    "model.add(Dense(units=689, activation='sigmoid')) # hidden\n",
    "model.add(Dense(units=689, activation='sigmoid')) # hidden\n",
    "model.add(Dense(units=689, activation='sigmoid')) # hidden\n",
    "model.add(Dense(units=689, activation='sigmoid')) # hidden\n",
    "model.add(Dense(units=689, activation='sigmoid')) # hidden\n",
    "model.add(Dense(units=689, activation='sigmoid')) # hidden\n",
    "model.add(Dense(units=689, activation='sigmoid')) # hidden\n",
    "model.add(Dense(units=689, activation='sigmoid')) # hidden\n",
    "model.add(Dense(units=689, activation='sigmoid')) # hidden\n",
    "\n",
    "model.add(Dense(units=10, activation='softmax')) # output\n",
    "\n",
    "model.compile(loss='categorical_crossentropy', optimizer=SGD(lr=0.1), metrics=['accuracy'])\n",
    "model.fit(x_train, y_train, batch_size=1000, epochs=3)"
   ]
  },
  {
   "cell_type": "markdown",
   "metadata": {},
   "source": [
    "# Change activation function"
   ]
  },
  {
   "cell_type": "code",
   "execution_count": 34,
   "metadata": {},
   "outputs": [
    {
     "name": "stdout",
     "output_type": "stream",
     "text": [
      "Epoch 1/3\n",
      "10000/10000 [==============================] - 2s 235us/step - loss: 2.3008 - accuracy: 0.1354\n",
      "Epoch 2/3\n",
      "10000/10000 [==============================] - 2s 245us/step - loss: 2.2964 - accuracy: 0.1413\n",
      "Epoch 3/3\n",
      "10000/10000 [==============================] - 2s 247us/step - loss: 2.2912 - accuracy: 0.1832\n"
     ]
    },
    {
     "data": {
      "text/plain": [
       "<keras.callbacks.callbacks.History at 0x16a820097c8>"
      ]
     },
     "execution_count": 34,
     "metadata": {},
     "output_type": "execute_result"
    }
   ],
   "source": [
    "model = Sequential()\n",
    "\n",
    "model.add(Dense(input_dim=28*28, units=689, activation='relu')) # input\n",
    "\n",
    "model.add(Dense(units=689, activation='relu')) # hidden\n",
    "model.add(Dense(units=689, activation='relu')) # hidden\n",
    "model.add(Dense(units=689, activation='relu')) # hidden\n",
    "model.add(Dense(units=689, activation='relu')) # hidden\n",
    "model.add(Dense(units=689, activation='relu')) # hidden\n",
    "model.add(Dense(units=689, activation='relu')) # hidden\n",
    "model.add(Dense(units=689, activation='relu')) # hidden\n",
    "model.add(Dense(units=689, activation='relu')) # hidden\n",
    "model.add(Dense(units=689, activation='relu')) # hidden\n",
    "model.add(Dense(units=689, activation='relu')) # hidden\n",
    "model.add(Dense(units=689, activation='relu')) # hidden\n",
    "\n",
    "model.add(Dense(units=10, activation='softmax')) # output\n",
    "\n",
    "model.compile(loss='categorical_crossentropy', optimizer=SGD(lr=0.1), metrics=['accuracy'])\n",
    "model.fit(x_train, y_train, batch_size=1000, epochs=3)"
   ]
  },
  {
   "cell_type": "markdown",
   "metadata": {},
   "source": [
    "# 不normalize"
   ]
  },
  {
   "cell_type": "code",
   "execution_count": 36,
   "metadata": {},
   "outputs": [],
   "source": [
    "def load_data():\n",
    "    (x_train, y_train), (x_test, y_test) = mnist.load_data()\n",
    "    number = 10000\n",
    "    x_train = x_train[:10000]\n",
    "    y_train = y_train[:10000]\n",
    "    \n",
    "    x_train = x_train.reshape(number, 28 * 28)\n",
    "    x_test = x_test.reshape(x_test.shape[0], 28*28)\n",
    "    \n",
    "    x_train = x_train.astype('float32')\n",
    "    x_test = x_test.astype('float32')\n",
    "    \n",
    "    y_train = np_utils.to_categorical(y_train, 10)\n",
    "    y_test = np_utils.to_categorical(y_test, 10)\n",
    "    return (x_train, y_train), (x_test, y_test)"
   ]
  },
  {
   "cell_type": "code",
   "execution_count": 37,
   "metadata": {},
   "outputs": [],
   "source": [
    "(x_train, y_train), (x_test, y_test) = load_data()"
   ]
  },
  {
   "cell_type": "code",
   "execution_count": 38,
   "metadata": {},
   "outputs": [
    {
     "name": "stdout",
     "output_type": "stream",
     "text": [
      "Epoch 1/3\n",
      "10000/10000 [==============================] - 3s 305us/step - loss: nan - accuracy: 0.0997 \n",
      "Epoch 2/3\n",
      "10000/10000 [==============================] - 3s 293us/step - loss: nan - accuracy: 0.1001\n",
      "Epoch 3/3\n",
      "10000/10000 [==============================] - 3s 254us/step - loss: nan - accuracy: 0.1001\n"
     ]
    },
    {
     "data": {
      "text/plain": [
       "<keras.callbacks.callbacks.History at 0x16a841ffc88>"
      ]
     },
     "execution_count": 38,
     "metadata": {},
     "output_type": "execute_result"
    }
   ],
   "source": [
    "model = Sequential()\n",
    "\n",
    "model.add(Dense(input_dim=28*28, units=689, activation='relu')) # input\n",
    "\n",
    "model.add(Dense(units=689, activation='relu')) # hidden\n",
    "model.add(Dense(units=689, activation='relu')) # hidden\n",
    "model.add(Dense(units=689, activation='relu')) # hidden\n",
    "model.add(Dense(units=689, activation='relu')) # hidden\n",
    "model.add(Dense(units=689, activation='relu')) # hidden\n",
    "model.add(Dense(units=689, activation='relu')) # hidden\n",
    "model.add(Dense(units=689, activation='relu')) # hidden\n",
    "model.add(Dense(units=689, activation='relu')) # hidden\n",
    "model.add(Dense(units=689, activation='relu')) # hidden\n",
    "model.add(Dense(units=689, activation='relu')) # hidden\n",
    "model.add(Dense(units=689, activation='relu')) # hidden\n",
    "\n",
    "model.add(Dense(units=10, activation='softmax')) # output\n",
    "\n",
    "model.compile(loss='categorical_crossentropy', optimizer=SGD(lr=0.1), metrics=['accuracy'])\n",
    "model.fit(x_train, y_train, batch_size=1000, epochs=3)"
   ]
  },
  {
   "cell_type": "markdown",
   "metadata": {},
   "source": [
    "# 换一下optimizer"
   ]
  },
  {
   "cell_type": "code",
   "execution_count": 41,
   "metadata": {},
   "outputs": [
    {
     "name": "stdout",
     "output_type": "stream",
     "text": [
      "Epoch 1/20\n",
      "10000/10000 [==============================] - 3s 347us/step - loss: 6.4076 - accuracy: 0.8259\n",
      "Epoch 2/20\n",
      "10000/10000 [==============================] - 3s 333us/step - loss: 0.2814 - accuracy: 0.9402\n",
      "Epoch 3/20\n",
      "10000/10000 [==============================] - 3s 350us/step - loss: 0.1192 - accuracy: 0.9696\n",
      "Epoch 4/20\n",
      "10000/10000 [==============================] - 3s 341us/step - loss: 0.0794 - accuracy: 0.9795\n",
      "Epoch 5/20\n",
      "10000/10000 [==============================] - 3s 339us/step - loss: 0.0648 - accuracy: 0.9848\n",
      "Epoch 6/20\n",
      "10000/10000 [==============================] - 3s 347us/step - loss: 0.0755 - accuracy: 0.9820\n",
      "Epoch 7/20\n",
      "10000/10000 [==============================] - 3s 339us/step - loss: 0.0665 - accuracy: 0.9849\n",
      "Epoch 8/20\n",
      "10000/10000 [==============================] - 3s 342us/step - loss: 0.0948 - accuracy: 0.9786\n",
      "Epoch 9/20\n",
      "10000/10000 [==============================] - 3s 341us/step - loss: 0.1182 - accuracy: 0.9732\n",
      "Epoch 10/20\n",
      "10000/10000 [==============================] - 3s 336us/step - loss: 0.1083 - accuracy: 0.9788\n",
      "Epoch 11/20\n",
      "10000/10000 [==============================] - 3s 344us/step - loss: 0.0916 - accuracy: 0.9813\n",
      "Epoch 12/20\n",
      "10000/10000 [==============================] - 3s 332us/step - loss: 0.1536 - accuracy: 0.9731\n",
      "Epoch 13/20\n",
      "10000/10000 [==============================] - 3s 334us/step - loss: 0.0964 - accuracy: 0.9811\n",
      "Epoch 14/20\n",
      "10000/10000 [==============================] - 3s 339us/step - loss: 0.0751 - accuracy: 0.9842\n",
      "Epoch 15/20\n",
      "10000/10000 [==============================] - 3s 336us/step - loss: 0.0802 - accuracy: 0.9838\n",
      "Epoch 16/20\n",
      "10000/10000 [==============================] - 3s 341us/step - loss: 0.0511 - accuracy: 0.9884\n",
      "Epoch 17/20\n",
      "10000/10000 [==============================] - 3s 332us/step - loss: 0.0643 - accuracy: 0.9871\n",
      "Epoch 18/20\n",
      "10000/10000 [==============================] - 3s 332us/step - loss: 0.0620 - accuracy: 0.9886\n",
      "Epoch 19/20\n",
      "10000/10000 [==============================] - 3s 340us/step - loss: 0.0576 - accuracy: 0.9876\n",
      "Epoch 20/20\n",
      "10000/10000 [==============================] - 3s 335us/step - loss: 0.1191 - accuracy: 0.9810\n"
     ]
    },
    {
     "data": {
      "text/plain": [
       "<keras.callbacks.callbacks.History at 0x16a884c3308>"
      ]
     },
     "execution_count": 41,
     "metadata": {},
     "output_type": "execute_result"
    }
   ],
   "source": [
    "model = Sequential()\n",
    "\n",
    "model.add(Dense(input_dim=28*28, units=689, activation='relu')) # input\n",
    "\n",
    "model.add(Dense(units=689, activation='relu')) # hidden\n",
    "model.add(Dense(units=689, activation='relu')) # hidden\n",
    "\n",
    "model.add(Dense(units=10, activation='softmax')) # output\n",
    "\n",
    "model.compile(loss='categorical_crossentropy', optimizer='adam', metrics=['accuracy'])\n",
    "model.fit(x_train, y_train, batch_size=100, epochs=20)"
   ]
  },
  {
   "cell_type": "code",
   "execution_count": null,
   "metadata": {},
   "outputs": [],
   "source": []
  }
 ],
 "metadata": {
  "kernelspec": {
   "display_name": "Python 3",
   "language": "python",
   "name": "python3"
  },
  "language_info": {
   "codemirror_mode": {
    "name": "ipython",
    "version": 3
   },
   "file_extension": ".py",
   "mimetype": "text/x-python",
   "name": "python",
   "nbconvert_exporter": "python",
   "pygments_lexer": "ipython3",
   "version": "3.7.6"
  },
  "toc": {
   "base_numbering": 1,
   "nav_menu": {},
   "number_sections": true,
   "sideBar": true,
   "skip_h1_title": false,
   "title_cell": "Table of Contents",
   "title_sidebar": "Contents",
   "toc_cell": false,
   "toc_position": {},
   "toc_section_display": true,
   "toc_window_display": false
  },
  "varInspector": {
   "cols": {
    "lenName": 16,
    "lenType": 16,
    "lenVar": 40
   },
   "kernels_config": {
    "python": {
     "delete_cmd_postfix": "",
     "delete_cmd_prefix": "del ",
     "library": "var_list.py",
     "varRefreshCmd": "print(var_dic_list())"
    },
    "r": {
     "delete_cmd_postfix": ") ",
     "delete_cmd_prefix": "rm(",
     "library": "var_list.r",
     "varRefreshCmd": "cat(var_dic_list()) "
    }
   },
   "types_to_exclude": [
    "module",
    "function",
    "builtin_function_or_method",
    "instance",
    "_Feature"
   ],
   "window_display": false
  }
 },
 "nbformat": 4,
 "nbformat_minor": 4
}
