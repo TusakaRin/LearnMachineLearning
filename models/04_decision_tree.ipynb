{
 "cells": [
  {
   "cell_type": "markdown",
   "metadata": {},
   "source": [
    "# Decision Tree"
   ]
  },
  {
   "cell_type": "markdown",
   "metadata": {},
   "source": [
    "# 模型：\n",
    "## 定义\n",
    "- 略\n",
    "\n",
    "## 决策树和if-then规则：\n",
    "- 决策树与对应的if-then规则集合具有一个重要的性质：互斥且完备（每一个实例都被一条路径或者一条规则所覆盖，而且只能被一条路径或者一个规则所覆盖）\n",
    "- 决策树和条件概率：下左图为特征空间的划分，右图为对应划分上+1类的条件概率，即$P(Y=1|X)$\n",
    "- ![](images/04_dt_conditional_probability.png)\n",
    "- "
   ]
  },
  {
   "cell_type": "markdown",
   "metadata": {},
   "source": [
    "# 特征选择\n",
    "- 特征选择的准则是选择最能区分当前实例集合的特征\n",
    "\n",
    "## 信息增益\n",
    "- 设随机变量$X$服从概率分布：$P(X=x_i)=p_i$，则随机变量X的熵的定义为$H(X)=-\\sum^n_{i=1}p_ilogp_i$，若某个值的概率为0，则定义这项为0"
   ]
  },
  {
   "cell_type": "code",
   "execution_count": null,
   "metadata": {},
   "outputs": [],
   "source": []
  }
 ],
 "metadata": {
  "file_extension": ".py",
  "kernelspec": {
   "display_name": "Python 3.7.4 64-bit ('base': conda)",
   "language": "python",
   "name": "python37464bitbasecondafbe69cbc01ae4c6698a3b176efd5c695"
  },
  "language_info": {
   "codemirror_mode": {
    "name": "ipython",
    "version": 3
   },
   "file_extension": ".py",
   "mimetype": "text/x-python",
   "name": "python",
   "nbconvert_exporter": "python",
   "pygments_lexer": "ipython3",
   "version": "3.7.4"
  },
  "mimetype": "text/x-python",
  "name": "python",
  "npconvert_exporter": "python",
  "pygments_lexer": "ipython3",
  "version": 3
 },
 "nbformat": 4,
 "nbformat_minor": 2
}
